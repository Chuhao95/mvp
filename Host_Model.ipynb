{
  "nbformat": 4,
  "nbformat_minor": 0,
  "metadata": {
    "colab": {
      "provenance": []
    },
    "kernelspec": {
      "name": "python3",
      "display_name": "Python 3"
    },
    "language_info": {
      "name": "python"
    }
  },
  "cells": [
    {
      "cell_type": "markdown",
      "source": [
        "### Initial setup"
      ],
      "metadata": {
        "id": "nsIuQIdG4gkc"
      }
    },
    {
      "cell_type": "code",
      "source": [
        "#install gradio for GUI\n",
        "!pip install gradio"
      ],
      "metadata": {
        "id": "stCdccU8hrF6"
      },
      "execution_count": null,
      "outputs": []
    },
    {
      "cell_type": "markdown",
      "source": [
        "`#|default_exp app` is marked for nbdev to convert code cells which are markded with `#|export` to `.py` file."
      ],
      "metadata": {
        "id": "Z9YuUdkr2b1u"
      }
    },
    {
      "cell_type": "code",
      "source": [
        "#|default_exp app"
      ],
      "metadata": {
        "id": "zRnBvCWGVo2d"
      },
      "execution_count": 2,
      "outputs": []
    },
    {
      "cell_type": "code",
      "execution_count": null,
      "metadata": {
        "id": "Z504vxYNg-ko"
      },
      "outputs": [],
      "source": [
        "#|export\n",
        "from fastai.vision.all import *\n",
        "import gradio as gr"
      ]
    },
    {
      "cell_type": "markdown",
      "source": [
        "Upload example.jpg to **Files** section of google colab"
      ],
      "metadata": {
        "id": "hPWCbitk1l_Y"
      }
    },
    {
      "cell_type": "code",
      "source": [
        "im = PILImage.create('example.jpg')\n",
        "im"
      ],
      "metadata": {
        "colab": {
          "base_uri": "https://localhost:8080/",
          "height": 107
        },
        "id": "72P2ICoWiFxk",
        "outputId": "7695bf8f-e833-4b99-e945-488b0b2ea345"
      },
      "execution_count": null,
      "outputs": [
        {
          "output_type": "execute_result",
          "data": {
            "text/plain": [
              "PILImage mode=RGB size=120x90"
            ],
            "image/png": "[encoded data removed]"
          },
          "metadata": {},
          "execution_count": 7
        }
      ]
    },
    {
      "cell_type": "markdown",
      "source": [
        "### Use trained model"
      ],
      "metadata": {
        "id": "wPD-vjLd4rVt"
      }
    },
    {
      "cell_type": "code",
      "source": [
        "#|export\n",
        "learn = load_learner('model.pkl')"
      ],
      "metadata": {
        "id": "f0k8TuKnihvZ"
      },
      "execution_count": null,
      "outputs": []
    },
    {
      "cell_type": "code",
      "source": [
        "learn.predict(im)"
      ],
      "metadata": {
        "colab": {
          "base_uri": "https://localhost:8080/",
          "height": 34
        },
        "id": "1GnbXnmsiytf",
        "outputId": "b510d019-736d-4d43-97ba-18a8160ab339"
      },
      "execution_count": null,
      "outputs": [
        {
          "output_type": "display_data",
          "data": {
            "text/plain": [
              "<IPython.core.display.HTML object>"
            ],
            "text/html": [
              "\n",
              "<style>\n",
              "    /* Turns off some styling */\n",
              "    progress {\n",
              "        /* gets rid of default border in Firefox and Opera. */\n",
              "        border: none;\n",
              "        /* Needs to be in here for Safari polyfill so background images work as expected. */\n",
              "        background-size: auto;\n",
              "    }\n",
              "    progress:not([value]), progress:not([value])::-webkit-progress-bar {\n",
              "        background: repeating-linear-gradient(45deg, #7e7e7e, #7e7e7e 10px, #5c5c5c 10px, #5c5c5c 20px);\n",
              "    }\n",
              "    .progress-bar-interrupted, .progress-bar-interrupted::-webkit-progress-bar {\n",
              "        background: #F44336;\n",
              "    }\n",
              "</style>\n"
            ]
          },
          "metadata": {}
        },
        {
          "output_type": "display_data",
          "data": {
            "text/plain": [
              "<IPython.core.display.HTML object>"
            ],
            "text/html": []
          },
          "metadata": {}
        },
        {
          "output_type": "execute_result",
          "data": {
            "text/plain": [
              "('above_average', tensor(0), tensor([0.5759, 0.4241]))"
            ]
          },
          "metadata": {},
          "execution_count": 9
        }
      ]
    },
    {
      "cell_type": "code",
      "source": [
        "#|export\n",
        "categories = ('Above Average', 'Below Average')\n",
        "\n",
        "def classify_image(img):\n",
        "  pred,idx,probs = learn.predict(img)\n",
        "  return dict(zip(categories, map(float,probs)))"
      ],
      "metadata": {
        "id": "Us43DrGHjLYy"
      },
      "execution_count": null,
      "outputs": []
    },
    {
      "cell_type": "code",
      "source": [
        "classify_image(im)"
      ],
      "metadata": {
        "colab": {
          "base_uri": "https://localhost:8080/",
          "height": 34
        },
        "id": "QQuIb0pHjwoe",
        "outputId": "b4468603-8efa-4e7f-82d9-dc8d26ad0ed8"
      },
      "execution_count": null,
      "outputs": [
        {
          "output_type": "display_data",
          "data": {
            "text/plain": [
              "<IPython.core.display.HTML object>"
            ],
            "text/html": [
              "\n",
              "<style>\n",
              "    /* Turns off some styling */\n",
              "    progress {\n",
              "        /* gets rid of default border in Firefox and Opera. */\n",
              "        border: none;\n",
              "        /* Needs to be in here for Safari polyfill so background images work as expected. */\n",
              "        background-size: auto;\n",
              "    }\n",
              "    progress:not([value]), progress:not([value])::-webkit-progress-bar {\n",
              "        background: repeating-linear-gradient(45deg, #7e7e7e, #7e7e7e 10px, #5c5c5c 10px, #5c5c5c 20px);\n",
              "    }\n",
              "    .progress-bar-interrupted, .progress-bar-interrupted::-webkit-progress-bar {\n",
              "        background: #F44336;\n",
              "    }\n",
              "</style>\n"
            ]
          },
          "metadata": {}
        },
        {
          "output_type": "display_data",
          "data": {
            "text/plain": [
              "<IPython.core.display.HTML object>"
            ],
            "text/html": []
          },
          "metadata": {}
        },
        {
          "output_type": "execute_result",
          "data": {
            "text/plain": [
              "{'Above Average': 0.575865626335144, 'Below Average': 0.42413434386253357}"
            ]
          },
          "metadata": {},
          "execution_count": 21
        }
      ]
    },
    {
      "cell_type": "markdown",
      "source": [
        "### Lauch Gradio app"
      ],
      "metadata": {
        "id": "68aFz4954MVs"
      }
    },
    {
      "cell_type": "code",
      "source": [
        "#|export\n",
        "image = gr.inputs.Image(shape=(192,192))\n",
        "label = gr.outputs.Label()\n",
        "examples = ['example.jpg', 'above_average.jpg', 'below_average.jpg']\n",
        "intf = gr.Interface(fn=classify_image, inputs=image, outputs=label, examples=examples)\n",
        "intf.launch(inline=False,share=True)"
      ],
      "metadata": {
        "colab": {
          "base_uri": "https://localhost:8080/"
        },
        "id": "FUuLZZfAj1aa",
        "outputId": "72d7182a-555d-477a-89f7-e6f33c957952"
      },
      "execution_count": null,
      "outputs": [
        {
          "output_type": "stream",
          "name": "stderr",
          "text": [
            "<ipython-input-22-ad0da62d8b7b>:2: GradioDeprecationWarning: Usage of gradio.inputs is deprecated, and will not be supported in the future, please import your component from gradio.components\n",
            "  image = gr.inputs.Image(shape=(192,192))\n",
            "<ipython-input-22-ad0da62d8b7b>:2: GradioDeprecationWarning: `optional` parameter is deprecated, and it has no effect\n",
            "  image = gr.inputs.Image(shape=(192,192))\n",
            "<ipython-input-22-ad0da62d8b7b>:3: GradioDeprecationWarning: Usage of gradio.outputs is deprecated, and will not be supported in the future, please import your components from gradio.components\n",
            "  label = gr.outputs.Label()\n",
            "<ipython-input-22-ad0da62d8b7b>:3: GradioUnusedKwargWarning: You have unused kwarg parameters in Label, please remove them: {'type': 'auto'}\n",
            "  label = gr.outputs.Label()\n"
          ]
        },
        {
          "output_type": "stream",
          "name": "stdout",
          "text": [
            "Colab notebook detected. To show errors in colab notebook, set debug=True in launch()\n",
            "Running on public URL: https://08ffbbcc32701578cd.gradio.live\n",
            "\n",
            "This share link expires in 72 hours. For free permanent hosting and GPU upgrades, run `gradio deploy` from Terminal to deploy to Spaces (https://huggingface.co/spaces)\n"
          ]
        },
        {
          "output_type": "execute_result",
          "data": {
            "text/plain": []
          },
          "metadata": {},
          "execution_count": 22
        }
      ]
    },
    {
      "cell_type": "markdown",
      "source": [
        "Export notebook cells marked with `#|export` to python script"
      ],
      "metadata": {
        "id": "SrwALK_AWc3w"
      }
    },
    {
      "cell_type": "code",
      "source": [
        "!pip install nbdev"
      ],
      "metadata": {
        "id": "FKOGCAR5WSEu"
      },
      "execution_count": null,
      "outputs": []
    },
    {
      "cell_type": "markdown",
      "source": [
        "### Export to google drive\n",
        "\n",
        "Because I run this notebook in colab, I set up following code to save all files from colab session including exporting app.py from this notebook to a folder in my google drive. So I can download and upload to Hugging Face repo later."
      ],
      "metadata": {
        "id": "Q4xXNzm33dQL"
      }
    },
    {
      "cell_type": "code",
      "source": [
        "from google.colab import drive\n",
        "drive.mount('/content/gdrive')"
      ],
      "metadata": {
        "colab": {
          "base_uri": "https://localhost:8080/"
        },
        "id": "VGVCPPnGaSCx",
        "outputId": "31cd9128-7989-496b-a04b-1213329a4fb6"
      },
      "execution_count": null,
      "outputs": [
        {
          "output_type": "stream",
          "name": "stdout",
          "text": [
            "Mounted at /content/gdrive\n"
          ]
        }
      ]
    },
    {
      "cell_type": "code",
      "source": [
        "import os\n",
        "import shutil\n",
        "\n",
        "# Specify the source path (current Colab folder)\n",
        "source_folder = '/content'\n",
        "\n",
        "# Specify the destination path (Google Drive folder)\n",
        "destination_folder = '/content/gdrive/My Drive/fastai/Lesson2/'\n",
        "\n",
        "# Copy only files in the source folder (exclude subfolders)\n",
        "for file_name in os.listdir(source_folder):\n",
        "    file_path = os.path.join(source_folder, file_name)\n",
        "    if os.path.isfile(file_path):\n",
        "        shutil.copy(file_path, destination_folder)\n"
      ],
      "metadata": {
        "id": "jHnO3ictfst7"
      },
      "execution_count": null,
      "outputs": []
    },
    {
      "cell_type": "code",
      "source": [
        "path = '/content/gdrive/My Drive/Colab Notebooks/' #default path where colad saves notebooks to your google drive\n",
        "shutil.copy2(path+'app.ipynb', destination_folder) #change app.ipynb to the name of your colab notebook"
      ],
      "metadata": {
        "colab": {
          "base_uri": "https://localhost:8080/",
          "height": 35
        },
        "id": "9fR03tWioGgs",
        "outputId": "87d6fdfe-55be-4416-9ccf-c5a480387187"
      },
      "execution_count": null,
      "outputs": [
        {
          "output_type": "execute_result",
          "data": {
            "text/plain": [
              "'/content/gdrive/My Drive/fastai/Lesson2/app.ipynb'"
            ],
            "application/vnd.google.colaboratory.intrinsic+json": {
              "type": "string"
            }
          },
          "metadata": {},
          "execution_count": 36
        }
      ]
    },
    {
      "cell_type": "code",
      "source": [
        "import nbdev\n",
        "nbdev.export.nb_export(destination_folder+'app.ipynb', destination_folder) #change app.ipynb to the name of your colab notebook\n",
        "print('Export successful')"
      ],
      "metadata": {
        "colab": {
          "base_uri": "https://localhost:8080/"
        },
        "id": "Tjm9RF58atey",
        "outputId": "ae611287-72ea-4340-f900-fb8c2d046e5e"
      },
      "execution_count": null,
      "outputs": [
        {
          "output_type": "stream",
          "name": "stdout",
          "text": [
            "Export successful\n"
          ]
        }
      ]
    }
  ]
}